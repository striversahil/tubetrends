{
 "cells": [
  {
   "cell_type": "markdown",
   "id": "72caadf3",
   "metadata": {},
   "source": [
    "### Analysis Notebook"
   ]
  },
  {
   "cell_type": "code",
   "execution_count": 3,
   "id": "3de972c3",
   "metadata": {},
   "outputs": [],
   "source": [
    "import psycopg2\n",
    "import os\n",
    "import pandas as pd\n",
    "from IPython.display import display\n",
    "conn = psycopg2.connect(os.getenv('POSTGRES_URI'))\n",
    "conn.autocommit = True\n",
    "cur = conn.cursor()"
   ]
  },
  {
   "cell_type": "markdown",
   "id": "f23bfb5a",
   "metadata": {},
   "source": [
    "- Getting the Data from PostgreSql"
   ]
  },
  {
   "cell_type": "code",
   "execution_count": 1,
   "id": "f7604463",
   "metadata": {},
   "outputs": [
    {
     "name": "stdout",
     "output_type": "stream",
     "text": [
      "Something went wrong 😬: \n",
      " name 'cur' is not defined\n"
     ]
    }
   ],
   "source": [
    "try:\n",
    "    cur.execute(\"Select * from video limit 20\")\n",
    "\n",
    "    df = pd.DataFrame(cur.fetchall(), columns=[desc[0] for desc in cur.description])\n",
    "\n",
    "    print(\"DataFrame shape: \", df.shape)\n",
    "\n",
    "    # df[\"publishedat\"] = pd.to_datetime(df[\"publishedat\"], format=\"%Y-%m-%d %H:%M:%S.%f\")\n",
    "    \n",
    "    display(df)\n",
    "\n",
    "\n",
    "    \n",
    "except Exception as e:\n",
    "    \n",
    "    print(\"Something went wrong 😬: \\n\", e)\n",
    "\n",
    "# cur.execute(\"SELECT NOW()\")\n",
    "# print(cur.fetchone())\n"
   ]
  },
  {
   "cell_type": "code",
   "execution_count": 7,
   "id": "d288aae9",
   "metadata": {},
   "outputs": [
    {
     "name": "stdout",
     "output_type": "stream",
     "text": [
      "<class 'pandas.core.frame.DataFrame'>\n",
      "RangeIndex: 20 entries, 0 to 19\n",
      "Data columns (total 16 columns):\n",
      " #   Column        Non-Null Count  Dtype         \n",
      "---  ------        --------------  -----         \n",
      " 0   id            20 non-null     object        \n",
      " 1   ranking       20 non-null     int64         \n",
      " 2   videoid       20 non-null     object        \n",
      " 3   title         20 non-null     object        \n",
      " 4   trending_id   20 non-null     object        \n",
      " 5   publishedat   20 non-null     datetime64[ns]\n",
      " 6   category      20 non-null     object        \n",
      " 7   channelid     20 non-null     object        \n",
      " 8   channelname   20 non-null     object        \n",
      " 9   thumbnail     20 non-null     object        \n",
      " 10  tags          20 non-null     object        \n",
      " 11  duration      20 non-null     int64         \n",
      " 12  viewcount     20 non-null     int64         \n",
      " 13  likecount     20 non-null     int64         \n",
      " 14  commentcount  20 non-null     int64         \n",
      " 15  timestamp     20 non-null     datetime64[ns]\n",
      "dtypes: datetime64[ns](2), int64(5), object(9)\n",
      "memory usage: 2.6+ KB\n"
     ]
    }
   ],
   "source": [
    "df.info()"
   ]
  },
  {
   "cell_type": "code",
   "execution_count": null,
   "id": "0550e8d0",
   "metadata": {},
   "outputs": [],
   "source": []
  }
 ],
 "metadata": {
  "kernelspec": {
   "display_name": "venv",
   "language": "python",
   "name": "python3"
  },
  "language_info": {
   "codemirror_mode": {
    "name": "ipython",
    "version": 3
   },
   "file_extension": ".py",
   "mimetype": "text/x-python",
   "name": "python",
   "nbconvert_exporter": "python",
   "pygments_lexer": "ipython3",
   "version": "3.10.12"
  }
 },
 "nbformat": 4,
 "nbformat_minor": 5
}
