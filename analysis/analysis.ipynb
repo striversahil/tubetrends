{
 "cells": [
  {
   "cell_type": "markdown",
   "id": "72caadf3",
   "metadata": {},
   "source": [
    "### Analysis Notebook"
   ]
  },
  {
   "cell_type": "code",
   "execution_count": 1,
   "id": "3de972c3",
   "metadata": {},
   "outputs": [
    {
     "data": {
      "text/plain": [
       "True"
      ]
     },
     "execution_count": 1,
     "metadata": {},
     "output_type": "execute_result"
    }
   ],
   "source": [
    "from dotenv import load_dotenv\n",
    "load_dotenv()"
   ]
  },
  {
   "cell_type": "code",
   "execution_count": null,
   "id": "e48797d4",
   "metadata": {},
   "outputs": [
    {
     "name": "stdout",
     "output_type": "stream",
     "text": [
      "{'error': {'code': 400, 'message': 'API key not valid. Please pass a valid API key.', 'errors': [{'message': 'API key not valid. Please pass a valid API key.', 'domain': 'global', 'reason': 'badRequest'}], 'status': 'INVALID_ARGUMENT', 'details': [{'@type': 'type.googleapis.com/google.rpc.ErrorInfo', 'reason': 'API_KEY_INVALID', 'domain': 'googleapis.com', 'metadata': {'service': 'youtube.googleapis.com'}}, {'@type': 'type.googleapis.com/google.rpc.LocalizedMessage', 'locale': 'en-US', 'message': 'API key not valid. Please pass a valid API key.'}]}}\n"
     ]
    }
   ],
   "source": [
    "import requests\n",
    "import os\n",
    "regionCode = \"IN\"\n",
    "channelId = \"UC_x5XG1OV2P6uZZ5FSM9Ttw\"\n",
    "\n",
    "\n",
    "def getChannel(channelId: str)  -> dict | None:\n",
    "      getChannelUrl = f\"https://www.googleapis.com/youtube/v3/channels?part=snippet,statistics&id={channelId}&key={os.getenv('YOUTUBE_API_KEY')}\"\n",
    "\n",
    "      try:\n",
    "            response = requests.get(getChannelUrl)\n",
    "            data = response.json()\n",
    "            return data\n",
    "      except requests.exceptions.RequestException as e:\n",
    "            return None\n",
    "\n",
    "\n",
    "def getTrending() -> dict | None:\n",
    "      getTrendingUrl = f\"https://www.googleapis.com/youtube/v3/videos?part=snippet,statistics,contentDetails&chart=mostPopular&regionCode={regionCode}&maxResults=25&key={os.getenv('YOUTUBE_API_KEY')}\"\n",
    "\n",
    "      try:\n",
    "            response = requests.get(getTrendingUrl)\n",
    "            data = response.json()\n",
    "            return data\n",
    "      except requests.exceptions.RequestException as e:\n",
    "            return None"
   ]
  }
 ],
 "metadata": {
  "kernelspec": {
   "display_name": "venv",
   "language": "python",
   "name": "python3"
  },
  "language_info": {
   "codemirror_mode": {
    "name": "ipython",
    "version": 3
   },
   "file_extension": ".py",
   "mimetype": "text/x-python",
   "name": "python",
   "nbconvert_exporter": "python",
   "pygments_lexer": "ipython3",
   "version": "3.10.12"
  }
 },
 "nbformat": 4,
 "nbformat_minor": 5
}
